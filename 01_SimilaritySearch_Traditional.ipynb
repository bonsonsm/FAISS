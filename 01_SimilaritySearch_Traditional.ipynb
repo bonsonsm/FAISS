{
  "nbformat": 4,
  "nbformat_minor": 0,
  "metadata": {
    "colab": {
      "provenance": []
    },
    "kernelspec": {
      "name": "python3",
      "display_name": "Python 3"
    },
    "language_info": {
      "name": "python"
    }
  },
  "cells": [
    {
      "cell_type": "markdown",
      "source": [
        "3 Traditional Methods for Similarity Search (Jaccard, w-shingling, Levenshtein)\n",
        "\n",
        "https://www.youtube.com/watch?v=AY62z7HrghY&list=PLIUOU7oqGTLhlWpTz4NnuT3FekouIVlqc"
      ],
      "metadata": {
        "id": "0KhEwsd_IJuh"
      }
    },
    {
      "cell_type": "code",
      "source": [
        "a=\"his thought process was on so many levels that he gave himself a phobia of heights\"\n",
        "b=\"there is an art to getting your way and throwing bananas on the street is not it\"\n",
        "c=\"it is not often you find soggy bananas on the street\""
      ],
      "metadata": {
        "id": "9507g2Z5ILPp"
      },
      "execution_count": 2,
      "outputs": []
    },
    {
      "cell_type": "code",
      "source": [
        "def jaccard(x: str, y:str):\n",
        "  # convert to sets\n",
        "  x=set(x.split())\n",
        "  y=set(y.split())\n",
        "  #calculate\n",
        "  shared=x.intersection(y)\n",
        "  union=x.union(y)\n",
        "  return len(shared) / len(union)"
      ],
      "metadata": {
        "id": "qRgojBZoIjaL"
      },
      "execution_count": 3,
      "outputs": []
    },
    {
      "cell_type": "code",
      "source": [
        "# printing the distance between different sentences\n",
        "print(jaccard(a,b))\n",
        "print(jaccard(a,c))\n",
        "print(jaccard(b,c))"
      ],
      "metadata": {
        "colab": {
          "base_uri": "https://localhost:8080/"
        },
        "id": "7h04dgl7I_PD",
        "outputId": "aae7b70d-ab8f-4b3b-b647-5d4c62ff26a7"
      },
      "execution_count": 4,
      "outputs": [
        {
          "output_type": "stream",
          "name": "stdout",
          "text": [
            "0.03225806451612903\n",
            "0.038461538461538464\n",
            "0.35\n"
          ]
        }
      ]
    },
    {
      "cell_type": "code",
      "source": [
        "jaccard(\"1 2 3\", \"2 4\")"
      ],
      "metadata": {
        "colab": {
          "base_uri": "https://localhost:8080/"
        },
        "id": "oVHgRhRaJG4_",
        "outputId": "1a775dd1-5402-4e76-d0ea-e88b6815ab26"
      },
      "execution_count": 5,
      "outputs": [
        {
          "output_type": "execute_result",
          "data": {
            "text/plain": [
              "0.25"
            ]
          },
          "metadata": {},
          "execution_count": 5
        }
      ]
    },
    {
      "cell_type": "markdown",
      "source": [
        "w-shingling"
      ],
      "metadata": {
        "id": "VNiG_mtfKhpe"
      }
    },
    {
      "cell_type": "code",
      "source": [
        "a_words = a.split()"
      ],
      "metadata": {
        "id": "fM4ndGCzK8gv"
      },
      "execution_count": 6,
      "outputs": []
    },
    {
      "cell_type": "code",
      "source": [
        "set([' '.join([a_words[i], a_words[i+1]]) for i in range(len(a_words)-1)])"
      ],
      "metadata": {
        "colab": {
          "base_uri": "https://localhost:8080/"
        },
        "id": "XujFiNlIJTnL",
        "outputId": "af07104a-a4e0-4908-f3ea-0b5937adb3f4"
      },
      "execution_count": 7,
      "outputs": [
        {
          "output_type": "execute_result",
          "data": {
            "text/plain": [
              "{'a phobia',\n",
              " 'gave himself',\n",
              " 'he gave',\n",
              " 'himself a',\n",
              " 'his thought',\n",
              " 'levels that',\n",
              " 'many levels',\n",
              " 'of heights',\n",
              " 'on so',\n",
              " 'phobia of',\n",
              " 'process was',\n",
              " 'so many',\n",
              " 'that he',\n",
              " 'thought process',\n",
              " 'was on'}"
            ]
          },
          "metadata": {},
          "execution_count": 7
        }
      ]
    },
    {
      "cell_type": "code",
      "source": [
        "def wshingling(x: str, y: str):\n",
        "  x_words = x.split()\n",
        "  x_set = set([' '.join([x_words[i], x_words[i+1]]) for i in range(len(x_words)-1)])\n",
        "  y_words = y.split()\n",
        "  y_set = set([' '.join([y_words[i], y_words[i+1]]) for i in range(len(y_words)-1)])\n",
        "  #calculate\n",
        "  shared=x_set.intersection(y_set)\n",
        "  union=x_set.union(y_set)\n",
        "  return len(shared) / len(union)"
      ],
      "metadata": {
        "id": "aPlrC1v4KnGC"
      },
      "execution_count": 8,
      "outputs": []
    },
    {
      "cell_type": "code",
      "source": [
        "wshingling(\"1 2 3\", \"1 2 4\")"
      ],
      "metadata": {
        "colab": {
          "base_uri": "https://localhost:8080/"
        },
        "id": "We4jKx6KNXOe",
        "outputId": "7a079650-0fed-4597-b5ce-b622bfd05dba"
      },
      "execution_count": 9,
      "outputs": [
        {
          "output_type": "execute_result",
          "data": {
            "text/plain": [
              "0.3333333333333333"
            ]
          },
          "metadata": {},
          "execution_count": 9
        }
      ]
    },
    {
      "cell_type": "code",
      "source": [
        "print(wshingling(a,b))\n",
        "print(wshingling(a,c))\n",
        "print(wshingling(b,c))"
      ],
      "metadata": {
        "colab": {
          "base_uri": "https://localhost:8080/"
        },
        "id": "npQnEYfoNc3k",
        "outputId": "6e57f732-9480-429e-e52a-6fac357279d6"
      },
      "execution_count": 10,
      "outputs": [
        {
          "output_type": "stream",
          "name": "stdout",
          "text": [
            "0.0\n",
            "0.0\n",
            "0.18181818181818182\n"
          ]
        }
      ]
    },
    {
      "cell_type": "code",
      "source": [],
      "metadata": {
        "id": "w8j_FKz-NloK"
      },
      "execution_count": 10,
      "outputs": []
    },
    {
      "cell_type": "markdown",
      "source": [
        "Levenshtein approach to check word distance"
      ],
      "metadata": {
        "id": "au6WhRV-NL9o"
      }
    },
    {
      "cell_type": "code",
      "source": [
        "import numpy as np\n",
        "\n",
        "def calculate_levenshtein(a,b):\n",
        "  # add additional blank character at the begenning\n",
        "  a=f' {a}'\n",
        "  b=f' {b}'\n",
        "  # initialize empty 0 array\n",
        "  lev = np.zeros((len(a), len(b)))\n",
        "  # begin iterating the values, finding best path\n",
        "  for i in range(len(a)):\n",
        "    for j in range(len(b)):\n",
        "      if min([i,j]) == 0:\n",
        "        lev[i,j] = max([i,j])\n",
        "      else:\n",
        "        # calculate the three possible operations\n",
        "        x = lev[i-1,j] # deletion\n",
        "        y = lev[i, j-1] # insertion\n",
        "        z = lev[i-1, j-1] # substitution\n",
        "        # Take the minimum ( best path/ operation)\n",
        "        lev[i,j] = min([x,y,z])\n",
        "        # if 2 characters dont match, add 1\n",
        "        if a[i] != b[j]:\n",
        "          # if we have a match, dont add 1\n",
        "          lev[i,j] += 1\n",
        "  return lev, lev[-1,-1]\n"
      ],
      "metadata": {
        "id": "Ydmy28A2NS7-"
      },
      "execution_count": 11,
      "outputs": []
    },
    {
      "cell_type": "code",
      "source": [
        "calculate_levenshtein(\"Levenshtein\",\"Levinshten\")"
      ],
      "metadata": {
        "colab": {
          "base_uri": "https://localhost:8080/"
        },
        "id": "T60xD3lfRfqr",
        "outputId": "89fb2ab0-b06a-4360-c030-52c5dd1258bb"
      },
      "execution_count": 12,
      "outputs": [
        {
          "output_type": "execute_result",
          "data": {
            "text/plain": [
              "(array([[ 0.,  1.,  2.,  3.,  4.,  5.,  6.,  7.,  8.,  9., 10.],\n",
              "        [ 1.,  0.,  1.,  2.,  3.,  4.,  5.,  6.,  7.,  8.,  9.],\n",
              "        [ 2.,  1.,  0.,  1.,  2.,  3.,  4.,  5.,  6.,  6.,  7.],\n",
              "        [ 3.,  2.,  1.,  0.,  1.,  2.,  3.,  4.,  5.,  6.,  7.],\n",
              "        [ 4.,  3.,  1.,  1.,  1.,  2.,  3.,  4.,  5.,  5.,  6.],\n",
              "        [ 5.,  4.,  2.,  2.,  2.,  1.,  2.,  3.,  4.,  5.,  5.],\n",
              "        [ 6.,  5.,  3.,  3.,  3.,  2.,  1.,  2.,  3.,  4.,  5.],\n",
              "        [ 7.,  6.,  4.,  4.,  4.,  3.,  2.,  1.,  2.,  3.,  4.],\n",
              "        [ 8.,  7.,  5.,  5.,  5.,  4.,  3.,  2.,  1.,  2.,  3.],\n",
              "        [ 9.,  8.,  5.,  6.,  6.,  5.,  4.,  3.,  2.,  1.,  2.],\n",
              "        [10.,  9.,  6.,  6.,  6.,  6.,  5.,  4.,  3.,  2.,  2.],\n",
              "        [11., 10.,  7.,  7.,  7.,  6.,  6.,  5.,  4.,  3.,  2.]]),\n",
              " 2.0)"
            ]
          },
          "metadata": {},
          "execution_count": 12
        }
      ]
    },
    {
      "cell_type": "code",
      "source": [],
      "metadata": {
        "id": "1Au-BvEMR0EV"
      },
      "execution_count": 12,
      "outputs": []
    }
  ]
}