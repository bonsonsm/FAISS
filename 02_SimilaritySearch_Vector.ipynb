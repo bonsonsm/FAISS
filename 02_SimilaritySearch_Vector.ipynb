{
  "nbformat": 4,
  "nbformat_minor": 0,
  "metadata": {
    "colab": {
      "provenance": []
    },
    "kernelspec": {
      "name": "python3",
      "display_name": "Python 3"
    },
    "language_info": {
      "name": "python"
    }
  },
  "cells": [
    {
      "cell_type": "code",
      "execution_count": null,
      "metadata": {
        "id": "SxP50ppo3n-G"
      },
      "outputs": [],
      "source": [
        "a=\"purple is the best city in the forest\".split()\n",
        "b=\"there is an art to getting your way and throwing bananas on the street is not it\".split()\n",
        "c=\"it is not often you find soggy bananas on the street\".split()"
      ]
    },
    {
      "cell_type": "code",
      "source": [
        "import numpy as np\n",
        "\n",
        "# merge all docs into a list of list\n",
        "docs =[a,b,c]\n",
        "\n",
        "def tfidf(word, sentence):\n",
        "  frequency = sentence.count(word)\n",
        "  #term frequency\n",
        "  tf = frequency/len(sentence)\n",
        "  #inverse document frequency\n",
        "  idf = np.log10(len(docs)/sum([1 for doc in docs if word in doc]))\n",
        "  return round(tf*idf, 4)"
      ],
      "metadata": {
        "id": "orHOuf4g4rIt"
      },
      "execution_count": null,
      "outputs": []
    },
    {
      "cell_type": "code",
      "source": [
        "tfidf(\"is\",a)"
      ],
      "metadata": {
        "colab": {
          "base_uri": "https://localhost:8080/"
        },
        "id": "2s5IAjH_5NIc",
        "outputId": "990a2f24-19eb-451c-c799-bd0ff4a4d12e"
      },
      "execution_count": null,
      "outputs": [
        {
          "output_type": "execute_result",
          "data": {
            "text/plain": [
              "0.0"
            ]
          },
          "metadata": {},
          "execution_count": 22
        }
      ]
    },
    {
      "cell_type": "code",
      "source": [
        "tfidf(\"forest\",a)"
      ],
      "metadata": {
        "colab": {
          "base_uri": "https://localhost:8080/"
        },
        "id": "CeUd9oc25UdQ",
        "outputId": "a7bef4ed-ffa0-4422-8816-f3e6f943571a"
      },
      "execution_count": null,
      "outputs": [
        {
          "output_type": "execute_result",
          "data": {
            "text/plain": [
              "0.0596"
            ]
          },
          "metadata": {},
          "execution_count": 23
        }
      ]
    },
    {
      "cell_type": "code",
      "source": [
        "vocab = set(a+b+c)\n",
        "vocab"
      ],
      "metadata": {
        "colab": {
          "base_uri": "https://localhost:8080/"
        },
        "id": "e8d2D-uK5aDd",
        "outputId": "7da8b996-eb52-4e97-c1fa-407223110bc0"
      },
      "execution_count": null,
      "outputs": [
        {
          "output_type": "execute_result",
          "data": {
            "text/plain": [
              "{'an',\n",
              " 'and',\n",
              " 'art',\n",
              " 'bananas',\n",
              " 'best',\n",
              " 'city',\n",
              " 'find',\n",
              " 'forest',\n",
              " 'getting',\n",
              " 'in',\n",
              " 'is',\n",
              " 'it',\n",
              " 'not',\n",
              " 'often',\n",
              " 'on',\n",
              " 'purple',\n",
              " 'soggy',\n",
              " 'street',\n",
              " 'the',\n",
              " 'there',\n",
              " 'throwing',\n",
              " 'to',\n",
              " 'way',\n",
              " 'you',\n",
              " 'your'}"
            ]
          },
          "metadata": {},
          "execution_count": 15
        }
      ]
    },
    {
      "cell_type": "code",
      "source": [
        "vec_a = []\n",
        "vec_b = []\n",
        "\n",
        "for word in vocab:\n",
        "  vec_a.append(tfidf(word,a))\n",
        "  vec_b.append(tfidf(word,b))"
      ],
      "metadata": {
        "id": "BEKbbcJ35hMf"
      },
      "execution_count": null,
      "outputs": []
    },
    {
      "cell_type": "code",
      "source": [
        "print(vec_a)"
      ],
      "metadata": {
        "colab": {
          "base_uri": "https://localhost:8080/"
        },
        "id": "1I14cWlg6G-2",
        "outputId": "2b2c8fb1-f538-4a16-a268-9f92693ef843"
      },
      "execution_count": null,
      "outputs": [
        {
          "output_type": "stream",
          "name": "stdout",
          "text": [
            "[0.0, 0.0, 0.0, 0.0596, 0.0, 0.0, 0.0, 0.0, 0.0596, 0.0, 0.0, 0.0, 0.0, 0.0, 0.0, 0.0, 0.0, 0.0596, 0.0, 0.0596, 0.0, 0.0, 0.0, 0.0596, 0.0]\n"
          ]
        }
      ]
    },
    {
      "cell_type": "code",
      "source": [
        "print(vec_b)"
      ],
      "metadata": {
        "colab": {
          "base_uri": "https://localhost:8080/"
        },
        "id": "Zj-QtZEA6IhA",
        "outputId": "33ec2b2e-436d-4089-9ccf-54e4ef7042b4"
      },
      "execution_count": null,
      "outputs": [
        {
          "output_type": "stream",
          "name": "stdout",
          "text": [
            "[0.0281, 0.0281, 0.0281, 0.0, 0.0281, 0.0104, 0.0, 0.0281, 0.0, 0.0, 0.0104, 0.0104, 0.0, 0.0, 0.0281, 0.0104, 0.0281, 0.0, 0.0104, 0.0, 0.0, 0.0281, 0.0281, 0.0, 0.0]\n"
          ]
        }
      ]
    },
    {
      "cell_type": "code",
      "source": [],
      "metadata": {
        "id": "70yBS4d66L_M"
      },
      "execution_count": null,
      "outputs": []
    },
    {
      "cell_type": "markdown",
      "source": [
        "BM25"
      ],
      "metadata": {
        "id": "VmybfpKd9CjJ"
      }
    },
    {
      "cell_type": "code",
      "source": [
        "a=\"purple is the best city in the forest\".split()\n",
        "b=\"there is an art to getting your way and throwing bananas on the street is not it\".split()\n",
        "c=\"it is not often you find soggy bananas on the street\".split()\n",
        "d=\"green should have smelled more tranquil but somehow it just tasted rotten\".split()\n",
        "e=\"joyce enjoyed eating panckaes with ketchup\".split()\n",
        "f=\"as the asteroid hurtled toward earth becky was upset her dentist appointment had been cancelled\".split()\n",
        "g=\"to get your way you must not bombard the road with yellow fruit\".split() # very similar to b\n"
      ],
      "metadata": {
        "id": "tuBb2meT9EGz"
      },
      "execution_count": null,
      "outputs": []
    },
    {
      "cell_type": "code",
      "source": [
        "docs = [a,b,c,d,e,f]"
      ],
      "metadata": {
        "id": "SvdxFWsa9vRw"
      },
      "execution_count": null,
      "outputs": []
    },
    {
      "cell_type": "code",
      "source": [
        "avgdl = sum([len(sentence) for sentence in docs])/len(docs)\n",
        "N = len(docs)\n",
        "\n",
        "def bm25(word, sentence, k=1.2, b=0.75):\n",
        "  #term frequency\n",
        "  freq = sentence.count(word) # or f(q,D) - frequency of the q in the Doc\n",
        "  tf = (freq * (k+1))/(freq + k * (1 - b + b * len(sentence) / avgdl))\n",
        "  #inverse document frequency\n",
        "  N_q = sum([1 for doc in docs if word in doc]) # Number of docs that contain the word\n",
        "  idf = np.log(((N - N_q + 0.5) / (N_q + 0.5)) + 1)\n",
        "  #idf = np.log10(N/sum([1 for doc in docs if word in doc]))\n",
        "  return round(tf * idf, 4)"
      ],
      "metadata": {
        "id": "vPS4_PLU9zYv"
      },
      "execution_count": null,
      "outputs": []
    },
    {
      "cell_type": "code",
      "source": [
        "bm25('purple', b)"
      ],
      "metadata": {
        "colab": {
          "base_uri": "https://localhost:8080/"
        },
        "id": "hdVTuTOhAvyL",
        "outputId": "8bae80b4-da95-4e15-a7d5-8e698e92877e"
      },
      "execution_count": null,
      "outputs": [
        {
          "output_type": "execute_result",
          "data": {
            "text/plain": [
              "0.0"
            ]
          },
          "metadata": {},
          "execution_count": 54
        }
      ]
    },
    {
      "cell_type": "code",
      "source": [
        "bm25('purple', a)"
      ],
      "metadata": {
        "colab": {
          "base_uri": "https://localhost:8080/"
        },
        "id": "aenLSzpKA0im",
        "outputId": "b1295d46-c0d9-4a38-bf36-06987d7f1f95"
      },
      "execution_count": null,
      "outputs": [
        {
          "output_type": "execute_result",
          "data": {
            "text/plain": [
              "1.7595"
            ]
          },
          "metadata": {},
          "execution_count": 55
        }
      ]
    },
    {
      "cell_type": "code",
      "source": [
        "!pip install sentence-transformers"
      ],
      "metadata": {
        "colab": {
          "base_uri": "https://localhost:8080/"
        },
        "collapsed": true,
        "id": "Gu_REk4wA3ao",
        "outputId": "a7013754-b1a0-4d4c-cce8-054592d55197"
      },
      "execution_count": null,
      "outputs": [
        {
          "output_type": "stream",
          "name": "stdout",
          "text": [
            "Requirement already satisfied: sentence-transformers in /usr/local/lib/python3.10/dist-packages (3.1.1)\n",
            "Requirement already satisfied: transformers<5.0.0,>=4.38.0 in /usr/local/lib/python3.10/dist-packages (from sentence-transformers) (4.44.2)\n",
            "Requirement already satisfied: tqdm in /usr/local/lib/python3.10/dist-packages (from sentence-transformers) (4.66.5)\n",
            "Requirement already satisfied: torch>=1.11.0 in /usr/local/lib/python3.10/dist-packages (from sentence-transformers) (2.4.1+cu121)\n",
            "Requirement already satisfied: scikit-learn in /usr/local/lib/python3.10/dist-packages (from sentence-transformers) (1.5.2)\n",
            "Requirement already satisfied: scipy in /usr/local/lib/python3.10/dist-packages (from sentence-transformers) (1.13.1)\n",
            "Requirement already satisfied: huggingface-hub>=0.19.3 in /usr/local/lib/python3.10/dist-packages (from sentence-transformers) (0.24.7)\n",
            "Requirement already satisfied: Pillow in /usr/local/lib/python3.10/dist-packages (from sentence-transformers) (10.4.0)\n",
            "Requirement already satisfied: filelock in /usr/local/lib/python3.10/dist-packages (from huggingface-hub>=0.19.3->sentence-transformers) (3.16.1)\n",
            "Requirement already satisfied: fsspec>=2023.5.0 in /usr/local/lib/python3.10/dist-packages (from huggingface-hub>=0.19.3->sentence-transformers) (2024.6.1)\n",
            "Requirement already satisfied: packaging>=20.9 in /usr/local/lib/python3.10/dist-packages (from huggingface-hub>=0.19.3->sentence-transformers) (24.1)\n",
            "Requirement already satisfied: pyyaml>=5.1 in /usr/local/lib/python3.10/dist-packages (from huggingface-hub>=0.19.3->sentence-transformers) (6.0.2)\n",
            "Requirement already satisfied: requests in /usr/local/lib/python3.10/dist-packages (from huggingface-hub>=0.19.3->sentence-transformers) (2.32.3)\n",
            "Requirement already satisfied: typing-extensions>=3.7.4.3 in /usr/local/lib/python3.10/dist-packages (from huggingface-hub>=0.19.3->sentence-transformers) (4.12.2)\n",
            "Requirement already satisfied: sympy in /usr/local/lib/python3.10/dist-packages (from torch>=1.11.0->sentence-transformers) (1.13.3)\n",
            "Requirement already satisfied: networkx in /usr/local/lib/python3.10/dist-packages (from torch>=1.11.0->sentence-transformers) (3.3)\n",
            "Requirement already satisfied: jinja2 in /usr/local/lib/python3.10/dist-packages (from torch>=1.11.0->sentence-transformers) (3.1.4)\n",
            "Requirement already satisfied: numpy>=1.17 in /usr/local/lib/python3.10/dist-packages (from transformers<5.0.0,>=4.38.0->sentence-transformers) (1.26.4)\n",
            "Requirement already satisfied: regex!=2019.12.17 in /usr/local/lib/python3.10/dist-packages (from transformers<5.0.0,>=4.38.0->sentence-transformers) (2024.9.11)\n",
            "Requirement already satisfied: safetensors>=0.4.1 in /usr/local/lib/python3.10/dist-packages (from transformers<5.0.0,>=4.38.0->sentence-transformers) (0.4.5)\n",
            "Requirement already satisfied: tokenizers<0.20,>=0.19 in /usr/local/lib/python3.10/dist-packages (from transformers<5.0.0,>=4.38.0->sentence-transformers) (0.19.1)\n",
            "Requirement already satisfied: joblib>=1.2.0 in /usr/local/lib/python3.10/dist-packages (from scikit-learn->sentence-transformers) (1.4.2)\n",
            "Requirement already satisfied: threadpoolctl>=3.1.0 in /usr/local/lib/python3.10/dist-packages (from scikit-learn->sentence-transformers) (3.5.0)\n",
            "Requirement already satisfied: MarkupSafe>=2.0 in /usr/local/lib/python3.10/dist-packages (from jinja2->torch>=1.11.0->sentence-transformers) (2.1.5)\n",
            "Requirement already satisfied: charset-normalizer<4,>=2 in /usr/local/lib/python3.10/dist-packages (from requests->huggingface-hub>=0.19.3->sentence-transformers) (3.3.2)\n",
            "Requirement already satisfied: idna<4,>=2.5 in /usr/local/lib/python3.10/dist-packages (from requests->huggingface-hub>=0.19.3->sentence-transformers) (3.10)\n",
            "Requirement already satisfied: urllib3<3,>=1.21.1 in /usr/local/lib/python3.10/dist-packages (from requests->huggingface-hub>=0.19.3->sentence-transformers) (2.2.3)\n",
            "Requirement already satisfied: certifi>=2017.4.17 in /usr/local/lib/python3.10/dist-packages (from requests->huggingface-hub>=0.19.3->sentence-transformers) (2024.8.30)\n",
            "Requirement already satisfied: mpmath<1.4,>=1.1.0 in /usr/local/lib/python3.10/dist-packages (from sympy->torch>=1.11.0->sentence-transformers) (1.3.0)\n"
          ]
        }
      ]
    },
    {
      "cell_type": "code",
      "source": [
        "a=\"purple is the best city in the forest\"\n",
        "b=\"there is an art to getting your way and throwing bananas on the street is not it\"\n",
        "c=\"it is not often you find soggy bananas on the street\"\n",
        "d=\"green should have smelled more tranquil but somehow it just tasted rotten\"\n",
        "e=\"joyce enjoyed eating panckaes with ketchup\"\n",
        "f=\"as the asteroid hurtled toward earth becky was upset her dentist appointment had been cancelled\"\n",
        "g=\"to get your way you must not bombard the road with yellow fruit\" # very similar to b"
      ],
      "metadata": {
        "id": "-aBbTn2mLDC7"
      },
      "execution_count": null,
      "outputs": []
    },
    {
      "cell_type": "code",
      "source": [
        "from sentence_transformers import SentenceTransformer\n",
        "\n",
        "model = SentenceTransformer('bert-base-nli-mean-tokens')"
      ],
      "metadata": {
        "colab": {
          "base_uri": "https://localhost:8080/"
        },
        "id": "VV-MjGQdDgoz",
        "outputId": "b474566b-26ef-49cc-82fa-bac5bdac012f"
      },
      "execution_count": null,
      "outputs": [
        {
          "output_type": "stream",
          "name": "stderr",
          "text": [
            "/usr/local/lib/python3.10/dist-packages/transformers/tokenization_utils_base.py:1601: FutureWarning: `clean_up_tokenization_spaces` was not set. It will be set to `True` by default. This behavior will be depracted in transformers v4.45, and will be then set to `False` by default. For more details check this issue: https://github.com/huggingface/transformers/issues/31884\n",
            "  warnings.warn(\n"
          ]
        }
      ]
    },
    {
      "cell_type": "code",
      "source": [
        "sentence_embeddings = model.encode([a, b, c, d, e, f,g])"
      ],
      "metadata": {
        "id": "EsvQdbiBEBGY"
      },
      "execution_count": null,
      "outputs": []
    },
    {
      "cell_type": "code",
      "source": [
        "sentence_embeddings.shape"
      ],
      "metadata": {
        "colab": {
          "base_uri": "https://localhost:8080/"
        },
        "id": "yuAunLyHEJ1t",
        "outputId": "922876b1-8596-45d2-ed26-3072f8a0b53c"
      },
      "execution_count": null,
      "outputs": [
        {
          "output_type": "execute_result",
          "data": {
            "text/plain": [
              "(7, 768)"
            ]
          },
          "metadata": {},
          "execution_count": 66
        }
      ]
    },
    {
      "cell_type": "code",
      "source": [
        "from sklearn.metrics.pairwise import cosine_similarity\n",
        "import numpy as np\n",
        "\n",
        "#calculate similarity (will store in array)\n",
        "scores = np.zeros((sentence_embeddings.shape[0], sentence_embeddings.shape[0]))\n",
        "for i in range(sentence_embeddings.shape[0]):\n",
        "  scores[i, :] = cosine_similarity([sentence_embeddings[i]], sentence_embeddings)[0]"
      ],
      "metadata": {
        "id": "yUN2fg7OGy2J"
      },
      "execution_count": null,
      "outputs": []
    },
    {
      "cell_type": "code",
      "source": [
        "scores"
      ],
      "metadata": {
        "colab": {
          "base_uri": "https://localhost:8080/"
        },
        "id": "biR-p6OMIAsB",
        "outputId": "181cc6a7-3daf-48c6-be33-6b808852993a"
      },
      "execution_count": null,
      "outputs": [
        {
          "output_type": "execute_result",
          "data": {
            "text/plain": [
              "array([[1.00000024, 0.17733914, 0.28297707, 0.29628253, 0.23554409,\n",
              "        0.10553394, 0.21696278],\n",
              "       [0.17733914, 1.        , 0.71785682, 0.49912864, 0.23153497,\n",
              "        0.20459959, 0.63264459],\n",
              "       [0.28297707, 0.71785682, 1.00000012, 0.48864433, 0.31355026,\n",
              "        0.16886294, 0.55993092],\n",
              "       [0.29628253, 0.49912864, 0.48864433, 0.99999976, 0.32697588,\n",
              "        0.3862493 , 0.52388823],\n",
              "       [0.2355441 , 0.23153502, 0.31355023, 0.32697591, 1.00000012,\n",
              "        0.15300447, 0.04480614],\n",
              "       [0.10553394, 0.2045996 , 0.16886291, 0.38624942, 0.15300447,\n",
              "        1.00000024, 0.23481461],\n",
              "       [0.21696277, 0.63264465, 0.55993092, 0.52388823, 0.04480613,\n",
              "        0.23481461, 1.00000012]])"
            ]
          },
          "metadata": {},
          "execution_count": 68
        }
      ]
    },
    {
      "cell_type": "code",
      "source": [
        "import matplotlib.pyplot as plt\n",
        "import seaborn as sns\n",
        "\n",
        "plt.figure(figsize=(10,9))\n",
        "labels = ['a','b','c', 'd', 'e', 'f', 'g']\n",
        "sns.heatmap(scores, xticklabels=labels, yticklabels=labels, annot=True)\n"
      ],
      "metadata": {
        "colab": {
          "base_uri": "https://localhost:8080/",
          "height": 776
        },
        "id": "5GDmsscAIGux",
        "outputId": "ef74ea4a-b6f1-40bd-a96e-760a66912d38"
      },
      "execution_count": null,
      "outputs": [
        {
          "output_type": "execute_result",
          "data": {
            "text/plain": [
              "<Axes: >"
            ]
          },
          "metadata": {},
          "execution_count": 69
        },
        {
          "output_type": "display_data",
          "data": {
            "text/plain": [
              "<Figure size 1000x900 with 2 Axes>"
            ],
            "image/png": "[encoded data removed]"
          },
          "metadata": {}
        }
      ]
    },
    {
      "cell_type": "code",
      "source": [],
      "metadata": {
        "id": "9sClaAg8JP14"
      },
      "execution_count": null,
      "outputs": []
    }
  ]
}